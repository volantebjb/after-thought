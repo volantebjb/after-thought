{
 "cells": [
  {
   "cell_type": "markdown",
   "metadata": {},
   "source": [
    "## Set up dependencies"
   ]
  },
  {
   "cell_type": "code",
   "execution_count": 1,
   "metadata": {},
   "outputs": [],
   "source": [
    "import os\n",
    "import time\n",
    "\n",
    "from dotenv import load_dotenv\n",
    "import openai\n",
    "import azure.cognitiveservices.speech as speechsdk\n"
   ]
  },
  {
   "cell_type": "markdown",
   "metadata": {},
   "source": [
    "## Set up environment variables"
   ]
  },
  {
   "cell_type": "code",
   "execution_count": 2,
   "metadata": {},
   "outputs": [
    {
     "data": {
      "text/plain": [
       "True"
      ]
     },
     "execution_count": 2,
     "metadata": {},
     "output_type": "execute_result"
    }
   ],
   "source": [
    "load_dotenv()"
   ]
  },
  {
   "cell_type": "code",
   "execution_count": 3,
   "metadata": {},
   "outputs": [],
   "source": [
    "openai.api_type = os.getenv('OPENAI_API_TYPE')\n",
    "openai.api_key = os.getenv('OPENAI_API_KEY') \n",
    "openai.api_base = os.getenv('OPENAI_API_BASE') \n",
    "openai.api_version = os.getenv('OPENAI_API_VERSION')"
   ]
  },
  {
   "cell_type": "code",
   "execution_count": 4,
   "metadata": {},
   "outputs": [],
   "source": [
    "SPEECH_API_KEY = os.getenv('SPEECH_API_KEY')\n",
    "SPEECH_API_REGION = os.getenv('SPEECH_API_REGION')\n",
    "\n",
    "COMPLETIONS_MODEL = os.getenv('COMPLETIONS_MODEL')"
   ]
  },
  {
   "cell_type": "code",
   "execution_count": 5,
   "metadata": {},
   "outputs": [],
   "source": [
    "def recognize_speech_from_file(filename):\n",
    "    speech_api_key = SPEECH_API_KEY\n",
    "    speech_api_region = SPEECH_API_REGION\n",
    "\n",
    "    speech_config = speechsdk.SpeechConfig(subscription=speech_api_key, region=speech_api_region)\n",
    "    audio_config = speechsdk.audio.AudioConfig(filename=filename)\n",
    "    # Creates a speech recognizer using a file as audio input, also specify the speech language\n",
    "    speech_recognizer = speechsdk.SpeechRecognizer(speech_config=speech_config,  audio_config=audio_config)\n",
    "    global done \n",
    "    done = False\n",
    "    global recognized_text_list \n",
    "    recognized_text_list=[]\n",
    "    def stop_cb(evt: speechsdk.SessionEventArgs):\n",
    "        \"\"\"callback that signals to stop continuous recognition upon receiving an event `evt`\"\"\"\n",
    "        print('CLOSING on {}'.format(evt))\n",
    "        global done\n",
    "        done = True\n",
    "\n",
    "    def recognize_cb(evt: speechsdk.SpeechRecognitionEventArgs):\n",
    "        \"\"\"callback for recognizing the recognized text\"\"\"\n",
    "        global recognized_text_list\n",
    "        recognized_text_list.append(evt.result.text)\n",
    "        print('RECOGNIZED: {}'.format(evt.result.text))\n",
    "\n",
    "    # Connect callbacks to the events fired by the speech recognizer\n",
    "    speech_recognizer.recognizing.connect(lambda evt: print('RECOGNIZING: {}'.format(evt)))\n",
    "    speech_recognizer.recognized.connect(recognize_cb)\n",
    "    speech_recognizer.session_started.connect(lambda evt: print('STT SESSION STARTED: {}'.format(evt)))\n",
    "    speech_recognizer.session_stopped.connect(lambda evt: print('STT SESSION STOPPED {}'.format(evt)))\n",
    "    speech_recognizer.canceled.connect(lambda evt: print('CANCELED {}'.format(evt)))\n",
    "    # stop continuous recognition on either session stopped or canceled events\n",
    "    speech_recognizer.session_stopped.connect(stop_cb)\n",
    "    speech_recognizer.canceled.connect(stop_cb)\n",
    "\n",
    "    # Start continuous speech recognition\n",
    "    speech_recognizer.start_continuous_recognition()\n",
    "    while not done:\n",
    "        time.sleep(.5)\n",
    "\n",
    "    speech_recognizer.stop_continuous_recognition()\n",
    "\n",
    "    return recognized_text_list\n"
   ]
  },
  {
   "cell_type": "markdown",
   "metadata": {},
   "source": [
    "## Transcribe Interview to Text"
   ]
  },
  {
   "cell_type": "code",
   "execution_count": 7,
   "metadata": {},
   "outputs": [
    {
     "name": "stdout",
     "output_type": "stream",
     "text": [
      "STT SESSION STARTED: SessionEventArgs(session_id=9bcb395f3b204ba8b8e4ee5c8eb42352)\n",
      "RECOGNIZING: SpeechRecognitionEventArgs(session_id=9bcb395f3b204ba8b8e4ee5c8eb42352, result=SpeechRecognitionResult(result_id=7f8c434a9b6a4212a0c11bc68d297cad, text=\"hello mrs ste\", reason=ResultReason.RecognizingSpeech))\n",
      "RECOGNIZING: SpeechRecognitionEventArgs(session_id=9bcb395f3b204ba8b8e4ee5c8eb42352, result=SpeechRecognitionResult(result_id=a17a583918034a47b9da81a002a17168, text=\"hello mrs stevens\", reason=ResultReason.RecognizingSpeech))\n",
      "RECOGNIZING: SpeechRecognitionEventArgs(session_id=9bcb395f3b204ba8b8e4ee5c8eb42352, result=SpeechRecognitionResult(result_id=5f1b4b59ffaa4a8c9a8b7c287bddbcdc, text=\"hello mrs stevens my name is\", reason=ResultReason.RecognizingSpeech))\n",
      "RECOGNIZING: SpeechRecognitionEventArgs(session_id=9bcb395f3b204ba8b8e4ee5c8eb42352, result=SpeechRecognitionResult(result_id=9b06ae30e6a2438a9f7637abe3bafc45, text=\"hello mrs stevens my name is jane\", reason=ResultReason.RecognizingSpeech))\n",
      "RECOGNIZING: SpeechRecognitionEventArgs(session_id=9bcb395f3b204ba8b8e4ee5c8eb42352, result=SpeechRecognitionResult(result_id=5eb3e3aeb8a44240ad0fd9e2e90042d8, text=\"hello mrs stevens my name is jane phillips i'm\", reason=ResultReason.RecognizingSpeech))\n",
      "RECOGNIZING: SpeechRecognitionEventArgs(session_id=9bcb395f3b204ba8b8e4ee5c8eb42352, result=SpeechRecognitionResult(result_id=c07bdd0d7a004006ae3e6e1c151fa0c9, text=\"hello mrs stevens my name is jane phillips i'm the personnel\", reason=ResultReason.RecognizingSpeech))\n",
      "RECOGNIZING: SpeechRecognitionEventArgs(session_id=9bcb395f3b204ba8b8e4ee5c8eb42352, result=SpeechRecognitionResult(result_id=2c1cc5780b7b4061a4935daa9fa8655d, text=\"hello mrs stevens my name is jane phillips i'm the personnel director\", reason=ResultReason.RecognizingSpeech))\n",
      "RECOGNIZING: SpeechRecognitionEventArgs(session_id=9bcb395f3b204ba8b8e4ee5c8eb42352, result=SpeechRecognitionResult(result_id=ae585de7d81d4fc4acf7fcaa2b7c7c56, text=\"hello mrs stevens my name is jane phillips i'm the personnel director i'm pleased to\", reason=ResultReason.RecognizingSpeech))\n",
      "RECOGNIZING: SpeechRecognitionEventArgs(session_id=9bcb395f3b204ba8b8e4ee5c8eb42352, result=SpeechRecognitionResult(result_id=487deddcf01c469ba702845eafce9bd9, text=\"hello mrs stevens my name is jane phillips i'm the personnel director i'm pleased to meet you\", reason=ResultReason.RecognizingSpeech))\n",
      "RECOGNIZING: SpeechRecognitionEventArgs(session_id=9bcb395f3b204ba8b8e4ee5c8eb42352, result=SpeechRecognitionResult(result_id=a4b71f4d58df4208976edc5c321cb1db, text=\"hello mrs stevens my name is jane phillips i'm the personnel director i'm pleased to meet you please have a seat\", reason=ResultReason.RecognizingSpeech))\n",
      "RECOGNIZING: SpeechRecognitionEventArgs(session_id=9bcb395f3b204ba8b8e4ee5c8eb42352, result=SpeechRecognitionResult(result_id=160265c7ce8244538a52443a4f0e7c65, text=\"hello mrs stevens my name is jane phillips i'm the personnel director i'm pleased to meet you please have a seat thank you\", reason=ResultReason.RecognizingSpeech))\n",
      "RECOGNIZED: Hello, Mrs. Stevens. My name is Jane Phillips. I'm the Personnel director. I'm pleased to meet you. Please have a seat. Thank you.\n",
      "RECOGNIZING: SpeechRecognitionEventArgs(session_id=9bcb395f3b204ba8b8e4ee5c8eb42352, result=SpeechRecognitionResult(result_id=00966e06b6924efbbd230c902a145ec8, text=\"according to your\", reason=ResultReason.RecognizingSpeech))\n",
      "RECOGNIZING: SpeechRecognitionEventArgs(session_id=9bcb395f3b204ba8b8e4ee5c8eb42352, result=SpeechRecognitionResult(result_id=75ca2968b43e4e7ca520ad92a6a5b4f2, text=\"according to your res\", reason=ResultReason.RecognizingSpeech))\n",
      "RECOGNIZING: SpeechRecognitionEventArgs(session_id=9bcb395f3b204ba8b8e4ee5c8eb42352, result=SpeechRecognitionResult(result_id=779c7572d7d846e1aa135c51339c46e2, text=\"according to your resume you\", reason=ResultReason.RecognizingSpeech))\n",
      "RECOGNIZING: SpeechRecognitionEventArgs(session_id=9bcb395f3b204ba8b8e4ee5c8eb42352, result=SpeechRecognitionResult(result_id=4fc9f8c48bf946f19a7f67252760652b, text=\"according to your resume you have\", reason=ResultReason.RecognizingSpeech))\n",
      "RECOGNIZING: SpeechRecognitionEventArgs(session_id=9bcb395f3b204ba8b8e4ee5c8eb42352, result=SpeechRecognitionResult(result_id=bbafaa8ca753463e8b9bc901b311db61, text=\"according to your resume you have several\", reason=ResultReason.RecognizingSpeech))\n",
      "RECOGNIZING: SpeechRecognitionEventArgs(session_id=9bcb395f3b204ba8b8e4ee5c8eb42352, result=SpeechRecognitionResult(result_id=3fa79d08545d4d5092e3fed790db6e1f, text=\"according to your resume you have several years\", reason=ResultReason.RecognizingSpeech))\n",
      "RECOGNIZING: SpeechRecognitionEventArgs(session_id=9bcb395f3b204ba8b8e4ee5c8eb42352, result=SpeechRecognitionResult(result_id=fa8ea97f238a424e9b647e7743e0b10c, text=\"according to your resume you have several years of\", reason=ResultReason.RecognizingSpeech))\n",
      "RECOGNIZING: SpeechRecognitionEventArgs(session_id=9bcb395f3b204ba8b8e4ee5c8eb42352, result=SpeechRecognitionResult(result_id=a76aabcef3c74ae8adb452996afd996c, text=\"according to your resume you have several years of office\", reason=ResultReason.RecognizingSpeech))\n",
      "RECOGNIZING: SpeechRecognitionEventArgs(session_id=9bcb395f3b204ba8b8e4ee5c8eb42352, result=SpeechRecognitionResult(result_id=260be3f24b6349a39043db1033e1ce73, text=\"according to your resume you have several years of office experience\", reason=ResultReason.RecognizingSpeech))\n",
      "RECOGNIZED: According to your resume, you have several years of office experience.\n",
      "RECOGNIZING: SpeechRecognitionEventArgs(session_id=9bcb395f3b204ba8b8e4ee5c8eb42352, result=SpeechRecognitionResult(result_id=bcf2cb8726fa413bbca74b7adfbfb892, text=\"yes i've had\", reason=ResultReason.RecognizingSpeech))\n",
      "RECOGNIZING: SpeechRecognitionEventArgs(session_id=9bcb395f3b204ba8b8e4ee5c8eb42352, result=SpeechRecognitionResult(result_id=787175c9b3054cec9063d2d787ff992b, text=\"yes i've had over\", reason=ResultReason.RecognizingSpeech))\n",
      "RECOGNIZING: SpeechRecognitionEventArgs(session_id=9bcb395f3b204ba8b8e4ee5c8eb42352, result=SpeechRecognitionResult(result_id=e3bf806e8d8e4972af841b48fb5b4bb1, text=\"yes i've had over 10\", reason=ResultReason.RecognizingSpeech))\n",
      "RECOGNIZING: SpeechRecognitionEventArgs(session_id=9bcb395f3b204ba8b8e4ee5c8eb42352, result=SpeechRecognitionResult(result_id=14e66e7414ff42e7a0b5102c2b90d9cd, text=\"yes i've had over 10 years\", reason=ResultReason.RecognizingSpeech))\n",
      "RECOGNIZING: SpeechRecognitionEventArgs(session_id=9bcb395f3b204ba8b8e4ee5c8eb42352, result=SpeechRecognitionResult(result_id=d72348d2ecdc4c2fb29ed5f470f8efc4, text=\"yes i've had over 10 years experience\", reason=ResultReason.RecognizingSpeech))\n",
      "RECOGNIZING: SpeechRecognitionEventArgs(session_id=9bcb395f3b204ba8b8e4ee5c8eb42352, result=SpeechRecognitionResult(result_id=f5d676bf032a417292c11a607d0a6383, text=\"yes i've had over 10 years experience tell\", reason=ResultReason.RecognizingSpeech))\n",
      "RECOGNIZING: SpeechRecognitionEventArgs(session_id=9bcb395f3b204ba8b8e4ee5c8eb42352, result=SpeechRecognitionResult(result_id=fdb183c4b4f045979d19bcccace3cdfe, text=\"yes i've had over 10 years experience tell me about\", reason=ResultReason.RecognizingSpeech))\n",
      "RECOGNIZING: SpeechRecognitionEventArgs(session_id=9bcb395f3b204ba8b8e4ee5c8eb42352, result=SpeechRecognitionResult(result_id=76ef1e5cad474da599659a4717e358e6, text=\"yes i've had over 10 years experience tell me about your\", reason=ResultReason.RecognizingSpeech))\n",
      "RECOGNIZING: SpeechRecognitionEventArgs(session_id=9bcb395f3b204ba8b8e4ee5c8eb42352, result=SpeechRecognitionResult(result_id=730979b1c9b243729bcf29f7ad2dcfe2, text=\"yes i've had over 10 years experience tell me about your qualific\", reason=ResultReason.RecognizingSpeech))\n",
      "RECOGNIZING: SpeechRecognitionEventArgs(session_id=9bcb395f3b204ba8b8e4ee5c8eb42352, result=SpeechRecognitionResult(result_id=efbe56a51c964c549bf3f37233bd6b63, text=\"yes i've had over 10 years experience tell me about your qualifications\", reason=ResultReason.RecognizingSpeech))\n",
      "RECOGNIZING: SpeechRecognitionEventArgs(session_id=9bcb395f3b204ba8b8e4ee5c8eb42352, result=SpeechRecognitionResult(result_id=0940dd83dccb4fa29d60621106649e14, text=\"yes i've had over 10 years experience tell me about your qualifications i can\", reason=ResultReason.RecognizingSpeech))\n",
      "RECOGNIZING: SpeechRecognitionEventArgs(session_id=9bcb395f3b204ba8b8e4ee5c8eb42352, result=SpeechRecognitionResult(result_id=269a6913a06545d29f9214b55befaebc, text=\"yes i've had over 10 years experience tell me about your qualifications i can type\", reason=ResultReason.RecognizingSpeech))\n",
      "RECOGNIZING: SpeechRecognitionEventArgs(session_id=9bcb395f3b204ba8b8e4ee5c8eb42352, result=SpeechRecognitionResult(result_id=a5d2ffe99b9740d086bf56103096bc0a, text=\"yes i've had over 10 years experience tell me about your qualifications i can type over\", reason=ResultReason.RecognizingSpeech))\n",
      "RECOGNIZING: SpeechRecognitionEventArgs(session_id=9bcb395f3b204ba8b8e4ee5c8eb42352, result=SpeechRecognitionResult(result_id=3081746d8f5d454a9185995d68eb630d, text=\"yes i've had over 10 years experience tell me about your qualifications i can type over 100\", reason=ResultReason.RecognizingSpeech))\n",
      "RECOGNIZING: SpeechRecognitionEventArgs(session_id=9bcb395f3b204ba8b8e4ee5c8eb42352, result=SpeechRecognitionResult(result_id=013439fcc46f4deda9648c9f21481943, text=\"yes i've had over 10 years experience tell me about your qualifications i can type over 100 words\", reason=ResultReason.RecognizingSpeech))\n",
      "RECOGNIZING: SpeechRecognitionEventArgs(session_id=9bcb395f3b204ba8b8e4ee5c8eb42352, result=SpeechRecognitionResult(result_id=dcf781f6a1d944299462c97bdc1afce0, text=\"yes i've had over 10 years experience tell me about your qualifications i can type over 100 words per minute\", reason=ResultReason.RecognizingSpeech))\n",
      "RECOGNIZING: SpeechRecognitionEventArgs(session_id=9bcb395f3b204ba8b8e4ee5c8eb42352, result=SpeechRecognitionResult(result_id=707cfc6cad514c4fae0c684e0906258c, text=\"yes i've had over 10 years experience tell me about your qualifications i can type over 100 words per minute i\", reason=ResultReason.RecognizingSpeech))\n",
      "RECOGNIZING: SpeechRecognitionEventArgs(session_id=9bcb395f3b204ba8b8e4ee5c8eb42352, result=SpeechRecognitionResult(result_id=8ab83b2c4785482bb518a9f8e4a39c84, text=\"yes i've had over 10 years experience tell me about your qualifications i can type over 100 words per minute i'm\", reason=ResultReason.RecognizingSpeech))\n",
      "RECOGNIZING: SpeechRecognitionEventArgs(session_id=9bcb395f3b204ba8b8e4ee5c8eb42352, result=SpeechRecognitionResult(result_id=677a15200d064e10b1691f6521a77242, text=\"yes i've had over 10 years experience tell me about your qualifications i can type over 100 words per minute i'm proficient\", reason=ResultReason.RecognizingSpeech))\n",
      "RECOGNIZING: SpeechRecognitionEventArgs(session_id=9bcb395f3b204ba8b8e4ee5c8eb42352, result=SpeechRecognitionResult(result_id=5dc61053bd904ab584a4a26aeadfa5a0, text=\"yes i've had over 10 years experience tell me about your qualifications i can type over 100 words per minute i'm proficient in many\", reason=ResultReason.RecognizingSpeech))\n",
      "RECOGNIZING: SpeechRecognitionEventArgs(session_id=9bcb395f3b204ba8b8e4ee5c8eb42352, result=SpeechRecognitionResult(result_id=1e62eeb94f2b4fb39eb5d349b7d8db9c, text=\"yes i've had over 10 years experience tell me about your qualifications i can type over 100 words per minute i'm proficient in many computer\", reason=ResultReason.RecognizingSpeech))\n",
      "RECOGNIZING: SpeechRecognitionEventArgs(session_id=9bcb395f3b204ba8b8e4ee5c8eb42352, result=SpeechRecognitionResult(result_id=7a18d8b15ddd4939a3ddcc1ec107adee, text=\"yes i've had over 10 years experience tell me about your qualifications i can type over 100 words per minute i'm proficient in many computer programs\", reason=ResultReason.RecognizingSpeech))\n",
      "RECOGNIZING: SpeechRecognitionEventArgs(session_id=9bcb395f3b204ba8b8e4ee5c8eb42352, result=SpeechRecognitionResult(result_id=69f7c42914c0430195efcc4e2f02a7bd, text=\"yes i've had over 10 years experience tell me about your qualifications i can type over 100 words per minute i'm proficient in many computer programs i\", reason=ResultReason.RecognizingSpeech))\n",
      "RECOGNIZING: SpeechRecognitionEventArgs(session_id=9bcb395f3b204ba8b8e4ee5c8eb42352, result=SpeechRecognitionResult(result_id=f0b5f117109a43b791bd1cc61d5a2376, text=\"yes i've had over 10 years experience tell me about your qualifications i can type over 100 words per minute i'm proficient in many computer programs i have\", reason=ResultReason.RecognizingSpeech))\n",
      "RECOGNIZING: SpeechRecognitionEventArgs(session_id=9bcb395f3b204ba8b8e4ee5c8eb42352, result=SpeechRecognitionResult(result_id=3407919557d74c5db97b0b3ddbf61dad, text=\"yes i've had over 10 years experience tell me about your qualifications i can type over 100 words per minute i'm proficient in many computer programs i have excellent\", reason=ResultReason.RecognizingSpeech))\n",
      "RECOGNIZING: SpeechRecognitionEventArgs(session_id=9bcb395f3b204ba8b8e4ee5c8eb42352, result=SpeechRecognitionResult(result_id=e65d2c930cb6412aab4bee5aaf5b39c5, text=\"yes i've had over 10 years experience tell me about your qualifications i can type over 100 words per minute i'm proficient in many computer programs i have excellent interpersonal\", reason=ResultReason.RecognizingSpeech))\n",
      "RECOGNIZING: SpeechRecognitionEventArgs(session_id=9bcb395f3b204ba8b8e4ee5c8eb42352, result=SpeechRecognitionResult(result_id=9b5017f99a57430884396c13da9b239b, text=\"yes i've had over 10 years experience tell me about your qualifications i can type over 100 words per minute i'm proficient in many computer programs i have excellent interpersonal skills\", reason=ResultReason.RecognizingSpeech))\n",
      "RECOGNIZED: Yes, I've had over 10 years experience. Tell me about your qualifications. I can type over 100 words per minute. I'm proficient in many computer programs. I have excellent interpersonal skills.\n",
      "RECOGNIZING: SpeechRecognitionEventArgs(session_id=9bcb395f3b204ba8b8e4ee5c8eb42352, result=SpeechRecognitionResult(result_id=77dfc10222c74d0f9edfe05743950511, text=\"i am well\", reason=ResultReason.RecognizingSpeech))\n",
      "RECOGNIZING: SpeechRecognitionEventArgs(session_id=9bcb395f3b204ba8b8e4ee5c8eb42352, result=SpeechRecognitionResult(result_id=6ddcb3a237114cda894e1a3197414031, text=\"i am well organized\", reason=ResultReason.RecognizingSpeech))\n",
      "RECOGNIZING: SpeechRecognitionEventArgs(session_id=9bcb395f3b204ba8b8e4ee5c8eb42352, result=SpeechRecognitionResult(result_id=5305c0679d97469d941958e1e1bc0ce0, text=\"i am well organized and i'm\", reason=ResultReason.RecognizingSpeech))\n",
      "RECOGNIZING: SpeechRecognitionEventArgs(session_id=9bcb395f3b204ba8b8e4ee5c8eb42352, result=SpeechRecognitionResult(result_id=4a597adfb6c3460db7aea455bd88a718, text=\"i am well organized and i'm a\", reason=ResultReason.RecognizingSpeech))\n",
      "RECOGNIZING: SpeechRecognitionEventArgs(session_id=9bcb395f3b204ba8b8e4ee5c8eb42352, result=SpeechRecognitionResult(result_id=528315d2b0794a70baf70a3789c96544, text=\"i am well organized and i'm a very fast learner\", reason=ResultReason.RecognizingSpeech))\n",
      "RECOGNIZING: SpeechRecognitionEventArgs(session_id=9bcb395f3b204ba8b8e4ee5c8eb42352, result=SpeechRecognitionResult(result_id=67ee54e020434acdba988dfffb7e46bb, text=\"i am well organized and i'm a very fast learner i\", reason=ResultReason.RecognizingSpeech))\n",
      "RECOGNIZING: SpeechRecognitionEventArgs(session_id=9bcb395f3b204ba8b8e4ee5c8eb42352, result=SpeechRecognitionResult(result_id=f72b61a9cf104387b7b3b15b56625d31, text=\"i am well organized and i'm a very fast learner i see that\", reason=ResultReason.RecognizingSpeech))\n",
      "RECOGNIZING: SpeechRecognitionEventArgs(session_id=9bcb395f3b204ba8b8e4ee5c8eb42352, result=SpeechRecognitionResult(result_id=63a90530716d45b28b96be8a9eee1ce0, text=\"i am well organized and i'm a very fast learner i see that you have\", reason=ResultReason.RecognizingSpeech))\n",
      "RECOGNIZING: SpeechRecognitionEventArgs(session_id=9bcb395f3b204ba8b8e4ee5c8eb42352, result=SpeechRecognitionResult(result_id=7bbd17a258be40f08637eb4a9292fb9d, text=\"i am well organized and i'm a very fast learner i see that you have excellent\", reason=ResultReason.RecognizingSpeech))\n",
      "RECOGNIZING: SpeechRecognitionEventArgs(session_id=9bcb395f3b204ba8b8e4ee5c8eb42352, result=SpeechRecognitionResult(result_id=46198da7a7814eda88bf792c185d142f, text=\"i am well organized and i'm a very fast learner i see that you have excellent references\", reason=ResultReason.RecognizingSpeech))\n",
      "RECOGNIZING: SpeechRecognitionEventArgs(session_id=9bcb395f3b204ba8b8e4ee5c8eb42352, result=SpeechRecognitionResult(result_id=ecbb1268d28b442ebde3b0067296663d, text=\"i am well organized and i'm a very fast learner i see that you have excellent references do you\", reason=ResultReason.RecognizingSpeech))\n",
      "RECOGNIZING: SpeechRecognitionEventArgs(session_id=9bcb395f3b204ba8b8e4ee5c8eb42352, result=SpeechRecognitionResult(result_id=61867e6a45c54e28aa4f9beb2d3b9f7a, text=\"i am well organized and i'm a very fast learner i see that you have excellent references do you have\", reason=ResultReason.RecognizingSpeech))\n",
      "RECOGNIZING: SpeechRecognitionEventArgs(session_id=9bcb395f3b204ba8b8e4ee5c8eb42352, result=SpeechRecognitionResult(result_id=f50d01daf6a649ceb59044d183445594, text=\"i am well organized and i'm a very fast learner i see that you have excellent references do you have any\", reason=ResultReason.RecognizingSpeech))\n",
      "RECOGNIZING: SpeechRecognitionEventArgs(session_id=9bcb395f3b204ba8b8e4ee5c8eb42352, result=SpeechRecognitionResult(result_id=3faebbd305b64754904dc844e4663645, text=\"i am well organized and i'm a very fast learner i see that you have excellent references do you have any questions\", reason=ResultReason.RecognizingSpeech))\n",
      "RECOGNIZING: SpeechRecognitionEventArgs(session_id=9bcb395f3b204ba8b8e4ee5c8eb42352, result=SpeechRecognitionResult(result_id=624f9bf9484a4cfabb551b6a8fa219e2, text=\"i am well organized and i'm a very fast learner i see that you have excellent references do you have any questions about\", reason=ResultReason.RecognizingSpeech))\n",
      "RECOGNIZING: SpeechRecognitionEventArgs(session_id=9bcb395f3b204ba8b8e4ee5c8eb42352, result=SpeechRecognitionResult(result_id=66faba77da274dd7a5b416cdfdd66344, text=\"i am well organized and i'm a very fast learner i see that you have excellent references do you have any questions about the position\", reason=ResultReason.RecognizingSpeech))\n",
      "RECOGNIZED: I am well organized and I'm a very fast learner. I see that you have excellent references. Do you have any questions about the position?\n",
      "RECOGNIZING: SpeechRecognitionEventArgs(session_id=9bcb395f3b204ba8b8e4ee5c8eb42352, result=SpeechRecognitionResult(result_id=6347a636d8b844df94ffd882c973bcb8, text=\"yes\", reason=ResultReason.RecognizingSpeech))\n",
      "RECOGNIZING: SpeechRecognitionEventArgs(session_id=9bcb395f3b204ba8b8e4ee5c8eb42352, result=SpeechRecognitionResult(result_id=33ff5a15833244d9a4831954feeb6a95, text=\"yes what are the\", reason=ResultReason.RecognizingSpeech))\n",
      "RECOGNIZING: SpeechRecognitionEventArgs(session_id=9bcb395f3b204ba8b8e4ee5c8eb42352, result=SpeechRecognitionResult(result_id=74d60b4ee35b45dca5abb57b032ea71c, text=\"yes what are the respons\", reason=ResultReason.RecognizingSpeech))\n",
      "RECOGNIZING: SpeechRecognitionEventArgs(session_id=9bcb395f3b204ba8b8e4ee5c8eb42352, result=SpeechRecognitionResult(result_id=ce4166c3fd8140cf8286f03c9cf0783a, text=\"yes what are the responsibilities\", reason=ResultReason.RecognizingSpeech))\n",
      "RECOGNIZING: SpeechRecognitionEventArgs(session_id=9bcb395f3b204ba8b8e4ee5c8eb42352, result=SpeechRecognitionResult(result_id=0a2822e575ba40d283d4dfcdb0290314, text=\"yes what are the responsibilities in this\", reason=ResultReason.RecognizingSpeech))\n",
      "RECOGNIZING: SpeechRecognitionEventArgs(session_id=9bcb395f3b204ba8b8e4ee5c8eb42352, result=SpeechRecognitionResult(result_id=27ac3d6376154f3791731f3e19184e83, text=\"yes what are the responsibilities in this position\", reason=ResultReason.RecognizingSpeech))\n",
      "RECOGNIZING: SpeechRecognitionEventArgs(session_id=9bcb395f3b204ba8b8e4ee5c8eb42352, result=SpeechRecognitionResult(result_id=337fa9ce6dc3451c990ffe5ea0ca4290, text=\"yes what are the responsibilities in this position we're looking\", reason=ResultReason.RecognizingSpeech))\n",
      "RECOGNIZING: SpeechRecognitionEventArgs(session_id=9bcb395f3b204ba8b8e4ee5c8eb42352, result=SpeechRecognitionResult(result_id=6e9973c0943d468196c0af311a5cf6d7, text=\"yes what are the responsibilities in this position we're looking for\", reason=ResultReason.RecognizingSpeech))\n",
      "RECOGNIZING: SpeechRecognitionEventArgs(session_id=9bcb395f3b204ba8b8e4ee5c8eb42352, result=SpeechRecognitionResult(result_id=390344c20a5a4e609a6993ea7b91950f, text=\"yes what are the responsibilities in this position we're looking for someone\", reason=ResultReason.RecognizingSpeech))\n",
      "RECOGNIZING: SpeechRecognitionEventArgs(session_id=9bcb395f3b204ba8b8e4ee5c8eb42352, result=SpeechRecognitionResult(result_id=bcbf23b612b049ff922dbcbe0ae82798, text=\"yes what are the responsibilities in this position we're looking for someone to\", reason=ResultReason.RecognizingSpeech))\n",
      "RECOGNIZING: SpeechRecognitionEventArgs(session_id=9bcb395f3b204ba8b8e4ee5c8eb42352, result=SpeechRecognitionResult(result_id=0e676352ec334800938e118bf8b54412, text=\"yes what are the responsibilities in this position we're looking for someone to super\", reason=ResultReason.RecognizingSpeech))\n",
      "RECOGNIZING: SpeechRecognitionEventArgs(session_id=9bcb395f3b204ba8b8e4ee5c8eb42352, result=SpeechRecognitionResult(result_id=ef7173d040b1411ea6934b0c4bf0d19d, text=\"yes what are the responsibilities in this position we're looking for someone to supervise\", reason=ResultReason.RecognizingSpeech))\n",
      "RECOGNIZING: SpeechRecognitionEventArgs(session_id=9bcb395f3b204ba8b8e4ee5c8eb42352, result=SpeechRecognitionResult(result_id=82973049c26d4a04ba447ea744980d67, text=\"yes what are the responsibilities in this position we're looking for someone to supervise 2 office cl\", reason=ResultReason.RecognizingSpeech))\n",
      "RECOGNIZING: SpeechRecognitionEventArgs(session_id=9bcb395f3b204ba8b8e4ee5c8eb42352, result=SpeechRecognitionResult(result_id=1b6819ee2cdd422cb1c637ab910e4e6a, text=\"yes what are the responsibilities in this position we're looking for someone to supervise 2 office clerks\", reason=ResultReason.RecognizingSpeech))\n",
      "RECOGNIZING: SpeechRecognitionEventArgs(session_id=9bcb395f3b204ba8b8e4ee5c8eb42352, result=SpeechRecognitionResult(result_id=514d51c6ec1b438fbf98830927f076da, text=\"yes what are the responsibilities in this position we're looking for someone to supervise 2 office clerks handle all\", reason=ResultReason.RecognizingSpeech))\n",
      "RECOGNIZING: SpeechRecognitionEventArgs(session_id=9bcb395f3b204ba8b8e4ee5c8eb42352, result=SpeechRecognitionResult(result_id=244514d8b7674df4a826d2249307a36f, text=\"yes what are the responsibilities in this position we're looking for someone to supervise 2 office clerks handle all the\", reason=ResultReason.RecognizingSpeech))\n",
      "RECOGNIZING: SpeechRecognitionEventArgs(session_id=9bcb395f3b204ba8b8e4ee5c8eb42352, result=SpeechRecognitionResult(result_id=6f2fed61bb9747bf875c9660d0238219, text=\"yes what are the responsibilities in this position we're looking for someone to supervise 2 office clerks handle all the correspond\", reason=ResultReason.RecognizingSpeech))\n",
      "RECOGNIZING: SpeechRecognitionEventArgs(session_id=9bcb395f3b204ba8b8e4ee5c8eb42352, result=SpeechRecognitionResult(result_id=adc13d5e8b794ec29752e2a1cd1dc523, text=\"yes what are the responsibilities in this position we're looking for someone to supervise 2 office clerks handle all the correspondence\", reason=ResultReason.RecognizingSpeech))\n",
      "RECOGNIZING: SpeechRecognitionEventArgs(session_id=9bcb395f3b204ba8b8e4ee5c8eb42352, result=SpeechRecognitionResult(result_id=89f4a596a960404c9ad92c4f0786745f, text=\"yes what are the responsibilities in this position we're looking for someone to supervise 2 office clerks handle all the correspondence arrange\", reason=ResultReason.RecognizingSpeech))\n",
      "RECOGNIZING: SpeechRecognitionEventArgs(session_id=9bcb395f3b204ba8b8e4ee5c8eb42352, result=SpeechRecognitionResult(result_id=8fa8f067ae344398a9f6e31ef80441f7, text=\"yes what are the responsibilities in this position we're looking for someone to supervise 2 office clerks handle all the correspondence arrange meetings\", reason=ResultReason.RecognizingSpeech))\n",
      "RECOGNIZING: SpeechRecognitionEventArgs(session_id=9bcb395f3b204ba8b8e4ee5c8eb42352, result=SpeechRecognitionResult(result_id=c71a3355b5c34f8a9ae7d88fd1029fc6, text=\"yes what are the responsibilities in this position we're looking for someone to supervise 2 office clerks handle all the correspondence arrange meetings and\", reason=ResultReason.RecognizingSpeech))\n",
      "RECOGNIZING: SpeechRecognitionEventArgs(session_id=9bcb395f3b204ba8b8e4ee5c8eb42352, result=SpeechRecognitionResult(result_id=e5f5680e16a34a3e97b6b3e33bd2ef3a, text=\"yes what are the responsibilities in this position we're looking for someone to supervise 2 office clerks handle all the correspondence arrange meetings and manage\", reason=ResultReason.RecognizingSpeech))\n",
      "RECOGNIZING: SpeechRecognitionEventArgs(session_id=9bcb395f3b204ba8b8e4ee5c8eb42352, result=SpeechRecognitionResult(result_id=61a06fb77f674bcfb9b151ef2d27a20e, text=\"yes what are the responsibilities in this position we're looking for someone to supervise 2 office clerks handle all the correspondence arrange meetings and manage the front office\", reason=ResultReason.RecognizingSpeech))\n",
      "RECOGNIZING: SpeechRecognitionEventArgs(session_id=9bcb395f3b204ba8b8e4ee5c8eb42352, result=SpeechRecognitionResult(result_id=d3082253cb2748f2a76800dfbd241dc9, text=\"yes what are the responsibilities in this position we're looking for someone to supervise 2 office clerks handle all the correspondence arrange meetings and manage the front office have you\", reason=ResultReason.RecognizingSpeech))\n",
      "RECOGNIZING: SpeechRecognitionEventArgs(session_id=9bcb395f3b204ba8b8e4ee5c8eb42352, result=SpeechRecognitionResult(result_id=05040c1cbcea4fb3a727a55b2dffe3f2, text=\"yes what are the responsibilities in this position we're looking for someone to supervise 2 office clerks handle all the correspondence arrange meetings and manage the front office have you had\", reason=ResultReason.RecognizingSpeech))\n",
      "RECOGNIZING: SpeechRecognitionEventArgs(session_id=9bcb395f3b204ba8b8e4ee5c8eb42352, result=SpeechRecognitionResult(result_id=50a2beb0486b422f80b486b4694649b8, text=\"yes what are the responsibilities in this position we're looking for someone to supervise 2 office clerks handle all the correspondence arrange meetings and manage the front office have you had any\", reason=ResultReason.RecognizingSpeech))\n",
      "RECOGNIZING: SpeechRecognitionEventArgs(session_id=9bcb395f3b204ba8b8e4ee5c8eb42352, result=SpeechRecognitionResult(result_id=3153a010f3934ffaab3702b8824cd871, text=\"yes what are the responsibilities in this position we're looking for someone to supervise 2 office clerks handle all the correspondence arrange meetings and manage the front office have you had any super\", reason=ResultReason.RecognizingSpeech))\n",
      "RECOGNIZING: SpeechRecognitionEventArgs(session_id=9bcb395f3b204ba8b8e4ee5c8eb42352, result=SpeechRecognitionResult(result_id=acaf61d7d59b460fa8a0dda007c61dd8, text=\"yes what are the responsibilities in this position we're looking for someone to supervise 2 office clerks handle all the correspondence arrange meetings and manage the front office have you had any supervisory\", reason=ResultReason.RecognizingSpeech))\n",
      "RECOGNIZING: SpeechRecognitionEventArgs(session_id=9bcb395f3b204ba8b8e4ee5c8eb42352, result=SpeechRecognitionResult(result_id=7f4b8650acd541eabb8491c6d366176e, text=\"yes what are the responsibilities in this position we're looking for someone to supervise 2 office clerks handle all the correspondence arrange meetings and manage the front office have you had any supervisory experience\", reason=ResultReason.RecognizingSpeech))\n",
      "RECOGNIZING: SpeechRecognitionEventArgs(session_id=9bcb395f3b204ba8b8e4ee5c8eb42352, result=SpeechRecognitionResult(result_id=cc2553fcc0dc49d097c3331bf5b29b84, text=\"yes what are the responsibilities in this position we're looking for someone to supervise 2 office clerks handle all the correspondence arrange meetings and manage the front office have you had any supervisory experience yes\", reason=ResultReason.RecognizingSpeech))\n",
      "RECOGNIZING: SpeechRecognitionEventArgs(session_id=9bcb395f3b204ba8b8e4ee5c8eb42352, result=SpeechRecognitionResult(result_id=3952023ddaf74d4ba2536532f11cbf99, text=\"yes what are the responsibilities in this position we're looking for someone to supervise 2 office clerks handle all the correspondence arrange meetings and manage the front office have you had any supervisory experience yes i\", reason=ResultReason.RecognizingSpeech))\n",
      "RECOGNIZING: SpeechRecognitionEventArgs(session_id=9bcb395f3b204ba8b8e4ee5c8eb42352, result=SpeechRecognitionResult(result_id=89bd80f57d6347319a504acde0f4bc64, text=\"yes what are the responsibilities in this position we're looking for someone to supervise 2 office clerks handle all the correspondence arrange meetings and manage the front office have you had any supervisory experience yes i super\", reason=ResultReason.RecognizingSpeech))\n",
      "RECOGNIZING: SpeechRecognitionEventArgs(session_id=9bcb395f3b204ba8b8e4ee5c8eb42352, result=SpeechRecognitionResult(result_id=0ef483c078294fb2a07657b8129d6b03, text=\"yes what are the responsibilities in this position we're looking for someone to supervise 2 office clerks handle all the correspondence arrange meetings and manage the front office have you had any supervisory experience yes i supervised\", reason=ResultReason.RecognizingSpeech))\n",
      "RECOGNIZING: SpeechRecognitionEventArgs(session_id=9bcb395f3b204ba8b8e4ee5c8eb42352, result=SpeechRecognitionResult(result_id=5f3517c0770b4356b0217f9146d69a28, text=\"yes what are the responsibilities in this position we're looking for someone to supervise 2 office clerks handle all the correspondence arrange meetings and manage the front office have you had any supervisory experience yes i supervised 3\", reason=ResultReason.RecognizingSpeech))\n",
      "RECOGNIZING: SpeechRecognitionEventArgs(session_id=9bcb395f3b204ba8b8e4ee5c8eb42352, result=SpeechRecognitionResult(result_id=3f594ee4c09f44b08e4fc3c3f4ed8c49, text=\"yes what are the responsibilities in this position we're looking for someone to supervise 2 office clerks handle all the correspondence arrange meetings and manage the front office have you had any supervisory experience yes i supervised 3 administ\", reason=ResultReason.RecognizingSpeech))\n",
      "RECOGNIZING: SpeechRecognitionEventArgs(session_id=9bcb395f3b204ba8b8e4ee5c8eb42352, result=SpeechRecognitionResult(result_id=031957654e2748e5a459fedb4ad04258, text=\"yes what are the responsibilities in this position we're looking for someone to supervise 2 office clerks handle all the correspondence arrange meetings and manage the front office have you had any supervisory experience yes i supervised 3 administrators\", reason=ResultReason.RecognizingSpeech))\n",
      "RECOGNIZING: SpeechRecognitionEventArgs(session_id=9bcb395f3b204ba8b8e4ee5c8eb42352, result=SpeechRecognitionResult(result_id=c6a988ee01ef4958a1ba431877a0989f, text=\"yes what are the responsibilities in this position we're looking for someone to supervise 2 office clerks handle all the correspondence arrange meetings and manage the front office have you had any supervisory experience yes i supervised 3 administrators in my last\", reason=ResultReason.RecognizingSpeech))\n",
      "RECOGNIZING: SpeechRecognitionEventArgs(session_id=9bcb395f3b204ba8b8e4ee5c8eb42352, result=SpeechRecognitionResult(result_id=95caf98fbaf54e4b8aa796559875513d, text=\"yes what are the responsibilities in this position we're looking for someone to supervise 2 office clerks handle all the correspondence arrange meetings and manage the front office have you had any supervisory experience yes i supervised 3 administrators in my last position\", reason=ResultReason.RecognizingSpeech))\n",
      "RECOGNIZED: Yes. What are the responsibilities in this position? We're looking for someone to supervise 2 office clerks, handle all the correspondence, arrange meetings and manage the front office. Have you had any supervisory experience? Yes, I supervised 3 administrators in my last position.\n",
      "RECOGNIZING: SpeechRecognitionEventArgs(session_id=9bcb395f3b204ba8b8e4ee5c8eb42352, result=SpeechRecognitionResult(result_id=793ab23f261f44e8890d014d01500130, text=\"what\", reason=ResultReason.RecognizingSpeech))\n",
      "RECOGNIZING: SpeechRecognitionEventArgs(session_id=9bcb395f3b204ba8b8e4ee5c8eb42352, result=SpeechRecognitionResult(result_id=b84acc5e67524bafba6d7fb39d5d9deb, text=\"what are the office\", reason=ResultReason.RecognizingSpeech))\n",
      "RECOGNIZING: SpeechRecognitionEventArgs(session_id=9bcb395f3b204ba8b8e4ee5c8eb42352, result=SpeechRecognitionResult(result_id=44d425c521044806880cac12727d4cb9, text=\"what are the office hours\", reason=ResultReason.RecognizingSpeech))\n",
      "RECOGNIZING: SpeechRecognitionEventArgs(session_id=9bcb395f3b204ba8b8e4ee5c8eb42352, result=SpeechRecognitionResult(result_id=466341c0feb149c8a8b0bb4be8f22551, text=\"what are the office hours mrs\", reason=ResultReason.RecognizingSpeech))\n",
      "RECOGNIZING: SpeechRecognitionEventArgs(session_id=9bcb395f3b204ba8b8e4ee5c8eb42352, result=SpeechRecognitionResult(result_id=9aacf82d291b4e728001b05d778f71ee, text=\"what are the office hours mrs phillips\", reason=ResultReason.RecognizingSpeech))\n",
      "RECOGNIZING: SpeechRecognitionEventArgs(session_id=9bcb395f3b204ba8b8e4ee5c8eb42352, result=SpeechRecognitionResult(result_id=618f15c7a9414dfaa581c211070838f0, text=\"what are the office hours mrs phillips 8:30\", reason=ResultReason.RecognizingSpeech))\n",
      "RECOGNIZING: SpeechRecognitionEventArgs(session_id=9bcb395f3b204ba8b8e4ee5c8eb42352, result=SpeechRecognitionResult(result_id=3a43d8594c1e4512b2ecfd7622be9557, text=\"what are the office hours mrs phillips 8:30 to\", reason=ResultReason.RecognizingSpeech))\n",
      "RECOGNIZING: SpeechRecognitionEventArgs(session_id=9bcb395f3b204ba8b8e4ee5c8eb42352, result=SpeechRecognitionResult(result_id=cc3400313f884a12b92511d0e1076ffd, text=\"what are the office hours mrs phillips 8:30 to 4:00\", reason=ResultReason.RecognizingSpeech))\n",
      "RECOGNIZING: SpeechRecognitionEventArgs(session_id=9bcb395f3b204ba8b8e4ee5c8eb42352, result=SpeechRecognitionResult(result_id=edf5e9eb05144d38a16f83e724eb61b7, text=\"what are the office hours mrs phillips 8:30 to 4:30\", reason=ResultReason.RecognizingSpeech))\n",
      "RECOGNIZING: SpeechRecognitionEventArgs(session_id=9bcb395f3b204ba8b8e4ee5c8eb42352, result=SpeechRecognitionResult(result_id=29cbd462a050469fab1944b999ed910b, text=\"what are the office hours mrs phillips 8:30 to 4:30 with an hour\", reason=ResultReason.RecognizingSpeech))\n",
      "RECOGNIZING: SpeechRecognitionEventArgs(session_id=9bcb395f3b204ba8b8e4ee5c8eb42352, result=SpeechRecognitionResult(result_id=b84ec49d0558448bae508c9e8d6ce18f, text=\"what are the office hours mrs phillips 8:30 to 4:30 with an hour off for\", reason=ResultReason.RecognizingSpeech))\n",
      "RECOGNIZING: SpeechRecognitionEventArgs(session_id=9bcb395f3b204ba8b8e4ee5c8eb42352, result=SpeechRecognitionResult(result_id=448f768d650a4fbbac6a0ca2f65bb8b7, text=\"what are the office hours mrs phillips 8:30 to 4:30 with an hour off for lunch\", reason=ResultReason.RecognizingSpeech))\n",
      "RECOGNIZING: SpeechRecognitionEventArgs(session_id=9bcb395f3b204ba8b8e4ee5c8eb42352, result=SpeechRecognitionResult(result_id=ed1c8c6257d64cb5ac0adc749d0311c7, text=\"what are the office hours mrs phillips 8:30 to 4:30 with an hour off for lunch what\", reason=ResultReason.RecognizingSpeech))\n",
      "RECOGNIZING: SpeechRecognitionEventArgs(session_id=9bcb395f3b204ba8b8e4ee5c8eb42352, result=SpeechRecognitionResult(result_id=9aebe15241a94e6c8c9a7df10393b879, text=\"what are the office hours mrs phillips 8:30 to 4:30 with an hour off for lunch what are your\", reason=ResultReason.RecognizingSpeech))\n",
      "RECOGNIZING: SpeechRecognitionEventArgs(session_id=9bcb395f3b204ba8b8e4ee5c8eb42352, result=SpeechRecognitionResult(result_id=2ee8b8318eb846ae8b5d9f17768bc862, text=\"what are the office hours mrs phillips 8:30 to 4:30 with an hour off for lunch what are your salary\", reason=ResultReason.RecognizingSpeech))\n",
      "RECOGNIZING: SpeechRecognitionEventArgs(session_id=9bcb395f3b204ba8b8e4ee5c8eb42352, result=SpeechRecognitionResult(result_id=ce51c9cb902d4e08a84198994a135d35, text=\"what are the office hours mrs phillips 8:30 to 4:30 with an hour off for lunch what are your salary expectations\", reason=ResultReason.RecognizingSpeech))\n",
      "RECOGNIZING: SpeechRecognitionEventArgs(session_id=9bcb395f3b204ba8b8e4ee5c8eb42352, result=SpeechRecognitionResult(result_id=2fc024e4c9d446a28c6e4b4f4d70712c, text=\"what are the office hours mrs phillips 8:30 to 4:30 with an hour off for lunch what are your salary expectations missus\", reason=ResultReason.RecognizingSpeech))\n",
      "RECOGNIZING: SpeechRecognitionEventArgs(session_id=9bcb395f3b204ba8b8e4ee5c8eb42352, result=SpeechRecognitionResult(result_id=0d69920d4e1a4905a3bacb9954bb34bb, text=\"what are the office hours mrs phillips 8:30 to 4:30 with an hour off for lunch what are your salary expectations missus stevens\", reason=ResultReason.RecognizingSpeech))\n",
      "RECOGNIZING: SpeechRecognitionEventArgs(session_id=9bcb395f3b204ba8b8e4ee5c8eb42352, result=SpeechRecognitionResult(result_id=7bd67325f9f8457e8b329f82326c9c01, text=\"what are the office hours mrs phillips 8:30 to 4:30 with an hour off for lunch what are your salary expectations missus stevens i\", reason=ResultReason.RecognizingSpeech))\n",
      "RECOGNIZING: SpeechRecognitionEventArgs(session_id=9bcb395f3b204ba8b8e4ee5c8eb42352, result=SpeechRecognitionResult(result_id=d01b88e95a4e41cc9d51179de8a19f26, text=\"what are the office hours mrs phillips 8:30 to 4:30 with an hour off for lunch what are your salary expectations missus stevens i expect\", reason=ResultReason.RecognizingSpeech))\n",
      "RECOGNIZING: SpeechRecognitionEventArgs(session_id=9bcb395f3b204ba8b8e4ee5c8eb42352, result=SpeechRecognitionResult(result_id=ced5917fb17f412faf8d156feea41cca, text=\"what are the office hours mrs phillips 8:30 to 4:30 with an hour off for lunch what are your salary expectations missus stevens i expect to be\", reason=ResultReason.RecognizingSpeech))\n",
      "RECOGNIZING: SpeechRecognitionEventArgs(session_id=9bcb395f3b204ba8b8e4ee5c8eb42352, result=SpeechRecognitionResult(result_id=3873366fb45543b48b161d69221670a3, text=\"what are the office hours mrs phillips 8:30 to 4:30 with an hour off for lunch what are your salary expectations missus stevens i expect to be paid the\", reason=ResultReason.RecognizingSpeech))\n",
      "RECOGNIZING: SpeechRecognitionEventArgs(session_id=9bcb395f3b204ba8b8e4ee5c8eb42352, result=SpeechRecognitionResult(result_id=294f0ffca2d844acbc193139df96fbce, text=\"what are the office hours mrs phillips 8:30 to 4:30 with an hour off for lunch what are your salary expectations missus stevens i expect to be paid the going\", reason=ResultReason.RecognizingSpeech))\n",
      "RECOGNIZING: SpeechRecognitionEventArgs(session_id=9bcb395f3b204ba8b8e4ee5c8eb42352, result=SpeechRecognitionResult(result_id=55101ce5ee804d0eb092d358a5081cc4, text=\"what are the office hours mrs phillips 8:30 to 4:30 with an hour off for lunch what are your salary expectations missus stevens i expect to be paid the going rate for\", reason=ResultReason.RecognizingSpeech))\n",
      "RECOGNIZING: SpeechRecognitionEventArgs(session_id=9bcb395f3b204ba8b8e4ee5c8eb42352, result=SpeechRecognitionResult(result_id=cd5950f6a83a4357acedb47b9c29d77e, text=\"what are the office hours mrs phillips 8:30 to 4:30 with an hour off for lunch what are your salary expectations missus stevens i expect to be paid the going rate for this type\", reason=ResultReason.RecognizingSpeech))\n",
      "RECOGNIZING: SpeechRecognitionEventArgs(session_id=9bcb395f3b204ba8b8e4ee5c8eb42352, result=SpeechRecognitionResult(result_id=132cd4bd7fbe4f45a532b07434bf1855, text=\"what are the office hours mrs phillips 8:30 to 4:30 with an hour off for lunch what are your salary expectations missus stevens i expect to be paid the going rate for this type of\", reason=ResultReason.RecognizingSpeech))\n",
      "RECOGNIZING: SpeechRecognitionEventArgs(session_id=9bcb395f3b204ba8b8e4ee5c8eb42352, result=SpeechRecognitionResult(result_id=9c3b3340a6b0444aa1f1132e52b3279c, text=\"what are the office hours mrs phillips 8:30 to 4:30 with an hour off for lunch what are your salary expectations missus stevens i expect to be paid the going rate for this type of position\", reason=ResultReason.RecognizingSpeech))\n",
      "RECOGNIZING: SpeechRecognitionEventArgs(session_id=9bcb395f3b204ba8b8e4ee5c8eb42352, result=SpeechRecognitionResult(result_id=29c8704e8f874b96a1dbc342211b8773, text=\"what are the office hours mrs phillips 8:30 to 4:30 with an hour off for lunch what are your salary expectations missus stevens i expect to be paid the going rate for this type of position can\", reason=ResultReason.RecognizingSpeech))\n",
      "RECOGNIZING: SpeechRecognitionEventArgs(session_id=9bcb395f3b204ba8b8e4ee5c8eb42352, result=SpeechRecognitionResult(result_id=2458fed168bb4eabadc9c317bbe1b875, text=\"what are the office hours mrs phillips 8:30 to 4:30 with an hour off for lunch what are your salary expectations missus stevens i expect to be paid the going rate for this type of position can you tell\", reason=ResultReason.RecognizingSpeech))\n",
      "RECOGNIZING: SpeechRecognitionEventArgs(session_id=9bcb395f3b204ba8b8e4ee5c8eb42352, result=SpeechRecognitionResult(result_id=083b14ac34864b5881f19befa7b93d6f, text=\"what are the office hours mrs phillips 8:30 to 4:30 with an hour off for lunch what are your salary expectations missus stevens i expect to be paid the going rate for this type of position can you tell me about\", reason=ResultReason.RecognizingSpeech))\n",
      "RECOGNIZING: SpeechRecognitionEventArgs(session_id=9bcb395f3b204ba8b8e4ee5c8eb42352, result=SpeechRecognitionResult(result_id=5dcdd2ddd3ad47a7b8d567bf9ff38051, text=\"what are the office hours mrs phillips 8:30 to 4:30 with an hour off for lunch what are your salary expectations missus stevens i expect to be paid the going rate for this type of position can you tell me about the\", reason=ResultReason.RecognizingSpeech))\n",
      "RECOGNIZING: SpeechRecognitionEventArgs(session_id=9bcb395f3b204ba8b8e4ee5c8eb42352, result=SpeechRecognitionResult(result_id=6855d1ebda7648d0a662b9107393c1d0, text=\"what are the office hours mrs phillips 8:30 to 4:30 with an hour off for lunch what are your salary expectations missus stevens i expect to be paid the going rate for this type of position can you tell me about the benefits\", reason=ResultReason.RecognizingSpeech))\n",
      "RECOGNIZING: SpeechRecognitionEventArgs(session_id=9bcb395f3b204ba8b8e4ee5c8eb42352, result=SpeechRecognitionResult(result_id=19c333b655bb429dad5fa971c7a57edb, text=\"what are the office hours mrs phillips 8:30 to 4:30 with an hour off for lunch what are your salary expectations missus stevens i expect to be paid the going rate for this type of position can you tell me about the benefits you offer\", reason=ResultReason.RecognizingSpeech))\n",
      "RECOGNIZING: SpeechRecognitionEventArgs(session_id=9bcb395f3b204ba8b8e4ee5c8eb42352, result=SpeechRecognitionResult(result_id=4375a37fbfca411896f3ae0cf55b7ae8, text=\"what are the office hours mrs phillips 8:30 to 4:30 with an hour off for lunch what are your salary expectations missus stevens i expect to be paid the going rate for this type of position can you tell me about the benefits you offer yes\", reason=ResultReason.RecognizingSpeech))\n",
      "RECOGNIZING: SpeechRecognitionEventArgs(session_id=9bcb395f3b204ba8b8e4ee5c8eb42352, result=SpeechRecognitionResult(result_id=8af1964bd24f4ea78a8944cc220d76c8, text=\"what are the office hours mrs phillips 8:30 to 4:30 with an hour off for lunch what are your salary expectations missus stevens i expect to be paid the going rate for this type of position can you tell me about the benefits you offer yes we\", reason=ResultReason.RecognizingSpeech))\n",
      "RECOGNIZING: SpeechRecognitionEventArgs(session_id=9bcb395f3b204ba8b8e4ee5c8eb42352, result=SpeechRecognitionResult(result_id=d2fc194825014615ba12585dea0c4391, text=\"what are the office hours mrs phillips 8:30 to 4:30 with an hour off for lunch what are your salary expectations missus stevens i expect to be paid the going rate for this type of position can you tell me about the benefits you offer yes we provide\", reason=ResultReason.RecognizingSpeech))\n",
      "RECOGNIZING: SpeechRecognitionEventArgs(session_id=9bcb395f3b204ba8b8e4ee5c8eb42352, result=SpeechRecognitionResult(result_id=bb8b9e394ced47e68eec46d85b144447, text=\"what are the office hours mrs phillips 8:30 to 4:30 with an hour off for lunch what are your salary expectations missus stevens i expect to be paid the going rate for this type of position can you tell me about the benefits you offer yes we provide full\", reason=ResultReason.RecognizingSpeech))\n",
      "RECOGNIZING: SpeechRecognitionEventArgs(session_id=9bcb395f3b204ba8b8e4ee5c8eb42352, result=SpeechRecognitionResult(result_id=7b598ace891746f5a58deb65c9e9c913, text=\"what are the office hours mrs phillips 8:30 to 4:30 with an hour off for lunch what are your salary expectations missus stevens i expect to be paid the going rate for this type of position can you tell me about the benefits you offer yes we provide full medical\", reason=ResultReason.RecognizingSpeech))\n",
      "RECOGNIZING: SpeechRecognitionEventArgs(session_id=9bcb395f3b204ba8b8e4ee5c8eb42352, result=SpeechRecognitionResult(result_id=16d74429f39642798b5cddce825c2d69, text=\"what are the office hours mrs phillips 8:30 to 4:30 with an hour off for lunch what are your salary expectations missus stevens i expect to be paid the going rate for this type of position can you tell me about the benefits you offer yes we provide full medical and dental\", reason=ResultReason.RecognizingSpeech))\n",
      "RECOGNIZING: SpeechRecognitionEventArgs(session_id=9bcb395f3b204ba8b8e4ee5c8eb42352, result=SpeechRecognitionResult(result_id=d82f2287f24745c6baab7ae7190a93a4, text=\"what are the office hours mrs phillips 8:30 to 4:30 with an hour off for lunch what are your salary expectations missus stevens i expect to be paid the going rate for this type of position can you tell me about the benefits you offer yes we provide full medical and dental coverage\", reason=ResultReason.RecognizingSpeech))\n",
      "RECOGNIZING: SpeechRecognitionEventArgs(session_id=9bcb395f3b204ba8b8e4ee5c8eb42352, result=SpeechRecognitionResult(result_id=02c921522678445d8313508c13f8d860, text=\"what are the office hours mrs phillips 8:30 to 4:30 with an hour off for lunch what are your salary expectations missus stevens i expect to be paid the going rate for this type of position can you tell me about the benefits you offer yes we provide full medical and dental coverage a\", reason=ResultReason.RecognizingSpeech))\n",
      "RECOGNIZING: SpeechRecognitionEventArgs(session_id=9bcb395f3b204ba8b8e4ee5c8eb42352, result=SpeechRecognitionResult(result_id=8ed0b1b6ec0f423389ca66a5902294e5, text=\"what are the office hours mrs phillips 8:30 to 4:30 with an hour off for lunch what are your salary expectations missus stevens i expect to be paid the going rate for this type of position can you tell me about the benefits you offer yes we provide full medical and dental coverage a pension\", reason=ResultReason.RecognizingSpeech))\n",
      "RECOGNIZING: SpeechRecognitionEventArgs(session_id=9bcb395f3b204ba8b8e4ee5c8eb42352, result=SpeechRecognitionResult(result_id=d56a2db4818f47f98492f01a40614020, text=\"what are the office hours mrs phillips 8:30 to 4:30 with an hour off for lunch what are your salary expectations missus stevens i expect to be paid the going rate for this type of position can you tell me about the benefits you offer yes we provide full medical and dental coverage a pension plan\", reason=ResultReason.RecognizingSpeech))\n",
      "RECOGNIZING: SpeechRecognitionEventArgs(session_id=9bcb395f3b204ba8b8e4ee5c8eb42352, result=SpeechRecognitionResult(result_id=4e0c76567b6640dfaf01dfc94740bd26, text=\"what are the office hours mrs phillips 8:30 to 4:30 with an hour off for lunch what are your salary expectations missus stevens i expect to be paid the going rate for this type of position can you tell me about the benefits you offer yes we provide full medical and dental coverage a pension plan and\", reason=ResultReason.RecognizingSpeech))\n",
      "RECOGNIZING: SpeechRecognitionEventArgs(session_id=9bcb395f3b204ba8b8e4ee5c8eb42352, result=SpeechRecognitionResult(result_id=860e2bcf51bb4909869ab636f25c1a3f, text=\"what are the office hours mrs phillips 8:30 to 4:30 with an hour off for lunch what are your salary expectations missus stevens i expect to be paid the going rate for this type of position can you tell me about the benefits you offer yes we provide full medical and dental coverage a pension plan and a\", reason=ResultReason.RecognizingSpeech))\n",
      "RECOGNIZING: SpeechRecognitionEventArgs(session_id=9bcb395f3b204ba8b8e4ee5c8eb42352, result=SpeechRecognitionResult(result_id=f4477cf54f5848e7bed726e1b6624921, text=\"what are the office hours mrs phillips 8:30 to 4:30 with an hour off for lunch what are your salary expectations missus stevens i expect to be paid the going rate for this type of position can you tell me about the benefits you offer yes we provide full medical and dental coverage a pension plan and a three\", reason=ResultReason.RecognizingSpeech))\n",
      "RECOGNIZING: SpeechRecognitionEventArgs(session_id=9bcb395f3b204ba8b8e4ee5c8eb42352, result=SpeechRecognitionResult(result_id=2835187610cc4fe78942d7c03753571b, text=\"what are the office hours mrs phillips 8:30 to 4:30 with an hour off for lunch what are your salary expectations missus stevens i expect to be paid the going rate for this type of position can you tell me about the benefits you offer yes we provide full medical and dental coverage a pension plan and a three week\", reason=ResultReason.RecognizingSpeech))\n",
      "RECOGNIZING: SpeechRecognitionEventArgs(session_id=9bcb395f3b204ba8b8e4ee5c8eb42352, result=SpeechRecognitionResult(result_id=2fef3cffb1994742bfab679c776d079f, text=\"what are the office hours mrs phillips 8:30 to 4:30 with an hour off for lunch what are your salary expectations missus stevens i expect to be paid the going rate for this type of position can you tell me about the benefits you offer yes we provide full medical and dental coverage a pension plan and a three week holiday per year\", reason=ResultReason.RecognizingSpeech))\n",
      "RECOGNIZED: What are the office hours, Mrs. Phillips? 8:30 to 4:30 with an hour off for lunch. What are your salary expectations, Missus Stevens, I expect to be paid the going rate for this type of position. Can you tell me about the benefits you offer? Yes. We provide full medical and dental coverage, a pension plan, and a three-week holiday per year.\n",
      "RECOGNIZING: SpeechRecognitionEventArgs(session_id=9bcb395f3b204ba8b8e4ee5c8eb42352, result=SpeechRecognitionResult(result_id=e91f29084a7f4c7f8d521da66729f11b, text=\"that's very generous\", reason=ResultReason.RecognizingSpeech))\n",
      "RECOGNIZING: SpeechRecognitionEventArgs(session_id=9bcb395f3b204ba8b8e4ee5c8eb42352, result=SpeechRecognitionResult(result_id=1fa4261a3e24401bb4b227cc8f8f1434, text=\"that's very generous when\", reason=ResultReason.RecognizingSpeech))\n",
      "RECOGNIZING: SpeechRecognitionEventArgs(session_id=9bcb395f3b204ba8b8e4ee5c8eb42352, result=SpeechRecognitionResult(result_id=7cdf4b33d7e04027b37565eda2111613, text=\"that's very generous when is the\", reason=ResultReason.RecognizingSpeech))\n",
      "RECOGNIZING: SpeechRecognitionEventArgs(session_id=9bcb395f3b204ba8b8e4ee5c8eb42352, result=SpeechRecognitionResult(result_id=70d6e4f074c147d9bf54852f6c9f97ba, text=\"that's very generous when is the position available\", reason=ResultReason.RecognizingSpeech))\n",
      "RECOGNIZED: That's very generous. When is the position available?\n",
      "RECOGNIZING: SpeechRecognitionEventArgs(session_id=9bcb395f3b204ba8b8e4ee5c8eb42352, result=SpeechRecognitionResult(result_id=74dd8038cd3a47969d9b692c006b7903, text=\"we're hoping\", reason=ResultReason.RecognizingSpeech))\n",
      "RECOGNIZING: SpeechRecognitionEventArgs(session_id=9bcb395f3b204ba8b8e4ee5c8eb42352, result=SpeechRecognitionResult(result_id=513ff8eeb0fa413396bb9631ea81e4b9, text=\"we're hoping the successful\", reason=ResultReason.RecognizingSpeech))\n",
      "RECOGNIZING: SpeechRecognitionEventArgs(session_id=9bcb395f3b204ba8b8e4ee5c8eb42352, result=SpeechRecognitionResult(result_id=34e777e2cadc42168c6bfeff9e191b6b, text=\"we're hoping the successful applicant\", reason=ResultReason.RecognizingSpeech))\n",
      "RECOGNIZING: SpeechRecognitionEventArgs(session_id=9bcb395f3b204ba8b8e4ee5c8eb42352, result=SpeechRecognitionResult(result_id=75503776412a4ccabe6f2eced038f8fa, text=\"we're hoping the successful applicant can\", reason=ResultReason.RecognizingSpeech))\n",
      "RECOGNIZING: SpeechRecognitionEventArgs(session_id=9bcb395f3b204ba8b8e4ee5c8eb42352, result=SpeechRecognitionResult(result_id=8699d3b5ba614b9e89bff3e55f814af6, text=\"we're hoping the successful applicant can start at\", reason=ResultReason.RecognizingSpeech))\n",
      "RECOGNIZING: SpeechRecognitionEventArgs(session_id=9bcb395f3b204ba8b8e4ee5c8eb42352, result=SpeechRecognitionResult(result_id=1552910d9b2d4d70a3df2314e9c66c28, text=\"we're hoping the successful applicant can start at the beginning\", reason=ResultReason.RecognizingSpeech))\n",
      "RECOGNIZING: SpeechRecognitionEventArgs(session_id=9bcb395f3b204ba8b8e4ee5c8eb42352, result=SpeechRecognitionResult(result_id=af1f1adb3a8b4680bdc9f52a09a60238, text=\"we're hoping the successful applicant can start at the beginning of\", reason=ResultReason.RecognizingSpeech))\n",
      "RECOGNIZING: SpeechRecognitionEventArgs(session_id=9bcb395f3b204ba8b8e4ee5c8eb42352, result=SpeechRecognitionResult(result_id=ea8ed7405cb34a83b0865964e1451d5a, text=\"we're hoping the successful applicant can start at the beginning of next month\", reason=ResultReason.RecognizingSpeech))\n",
      "RECOGNIZING: SpeechRecognitionEventArgs(session_id=9bcb395f3b204ba8b8e4ee5c8eb42352, result=SpeechRecognitionResult(result_id=90e2ee91132b485199248fda2507e72c, text=\"we're hoping the successful applicant can start at the beginning of next month we'll\", reason=ResultReason.RecognizingSpeech))\n",
      "RECOGNIZING: SpeechRecognitionEventArgs(session_id=9bcb395f3b204ba8b8e4ee5c8eb42352, result=SpeechRecognitionResult(result_id=2088c4609d9e4a04a926c9f706ac9c25, text=\"we're hoping the successful applicant can start at the beginning of next month we'll finish\", reason=ResultReason.RecognizingSpeech))\n",
      "RECOGNIZING: SpeechRecognitionEventArgs(session_id=9bcb395f3b204ba8b8e4ee5c8eb42352, result=SpeechRecognitionResult(result_id=66d94b11168c464f95bc86ec8f8dac92, text=\"we're hoping the successful applicant can start at the beginning of next month we'll finish our interview\", reason=ResultReason.RecognizingSpeech))\n",
      "RECOGNIZING: SpeechRecognitionEventArgs(session_id=9bcb395f3b204ba8b8e4ee5c8eb42352, result=SpeechRecognitionResult(result_id=d767836448504c27847a9208066cb4bf, text=\"we're hoping the successful applicant can start at the beginning of next month we'll finish our interviews tomorrow\", reason=ResultReason.RecognizingSpeech))\n",
      "RECOGNIZING: SpeechRecognitionEventArgs(session_id=9bcb395f3b204ba8b8e4ee5c8eb42352, result=SpeechRecognitionResult(result_id=bce643b211294acb84076306eca8f885, text=\"we're hoping the successful applicant can start at the beginning of next month we'll finish our interviews tomorrow and make\", reason=ResultReason.RecognizingSpeech))\n",
      "RECOGNIZING: SpeechRecognitionEventArgs(session_id=9bcb395f3b204ba8b8e4ee5c8eb42352, result=SpeechRecognitionResult(result_id=d60d9bcc63b0478d9f5b87a508036f7f, text=\"we're hoping the successful applicant can start at the beginning of next month we'll finish our interviews tomorrow and make a\", reason=ResultReason.RecognizingSpeech))\n",
      "RECOGNIZING: SpeechRecognitionEventArgs(session_id=9bcb395f3b204ba8b8e4ee5c8eb42352, result=SpeechRecognitionResult(result_id=e579ac35f1a34078b9e5093f2f01dda2, text=\"we're hoping the successful applicant can start at the beginning of next month we'll finish our interviews tomorrow and make a decision by the\", reason=ResultReason.RecognizingSpeech))\n",
      "RECOGNIZING: SpeechRecognitionEventArgs(session_id=9bcb395f3b204ba8b8e4ee5c8eb42352, result=SpeechRecognitionResult(result_id=4f92f85a3363414bb20553128fb2d065, text=\"we're hoping the successful applicant can start at the beginning of next month we'll finish our interviews tomorrow and make a decision by the weekend\", reason=ResultReason.RecognizingSpeech))\n",
      "RECOGNIZING: SpeechRecognitionEventArgs(session_id=9bcb395f3b204ba8b8e4ee5c8eb42352, result=SpeechRecognitionResult(result_id=d4a010ec61a543beb2a0cdcedfef1ddb, text=\"we're hoping the successful applicant can start at the beginning of next month we'll finish our interviews tomorrow and make a decision by the weekend we'll\", reason=ResultReason.RecognizingSpeech))\n",
      "RECOGNIZING: SpeechRecognitionEventArgs(session_id=9bcb395f3b204ba8b8e4ee5c8eb42352, result=SpeechRecognitionResult(result_id=3b481e476d994d9e9522a271c2c34f92, text=\"we're hoping the successful applicant can start at the beginning of next month we'll finish our interviews tomorrow and make a decision by the weekend we'll contact\", reason=ResultReason.RecognizingSpeech))\n",
      "RECOGNIZING: SpeechRecognitionEventArgs(session_id=9bcb395f3b204ba8b8e4ee5c8eb42352, result=SpeechRecognitionResult(result_id=21a9b4231595485685afcbfedbda1914, text=\"we're hoping the successful applicant can start at the beginning of next month we'll finish our interviews tomorrow and make a decision by the weekend we'll contact you\", reason=ResultReason.RecognizingSpeech))\n",
      "RECOGNIZING: SpeechRecognitionEventArgs(session_id=9bcb395f3b204ba8b8e4ee5c8eb42352, result=SpeechRecognitionResult(result_id=494ae934ee65478db3bbe1c7bb6963fb, text=\"we're hoping the successful applicant can start at the beginning of next month we'll finish our interviews tomorrow and make a decision by the weekend we'll contact you next week\", reason=ResultReason.RecognizingSpeech))\n",
      "RECOGNIZING: SpeechRecognitionEventArgs(session_id=9bcb395f3b204ba8b8e4ee5c8eb42352, result=SpeechRecognitionResult(result_id=b3aba9f0b2c542f395bc47b36b9e5bd8, text=\"we're hoping the successful applicant can start at the beginning of next month we'll finish our interviews tomorrow and make a decision by the weekend we'll contact you next week thank you very much\", reason=ResultReason.RecognizingSpeech))\n",
      "RECOGNIZING: SpeechRecognitionEventArgs(session_id=9bcb395f3b204ba8b8e4ee5c8eb42352, result=SpeechRecognitionResult(result_id=16022abe638148e1b16f20c0effde966, text=\"we're hoping the successful applicant can start at the beginning of next month we'll finish our interviews tomorrow and make a decision by the weekend we'll contact you next week thank you very much it\", reason=ResultReason.RecognizingSpeech))\n",
      "RECOGNIZING: SpeechRecognitionEventArgs(session_id=9bcb395f3b204ba8b8e4ee5c8eb42352, result=SpeechRecognitionResult(result_id=ab085cf4a6ec45bbb42ebee8194c9c33, text=\"we're hoping the successful applicant can start at the beginning of next month we'll finish our interviews tomorrow and make a decision by the weekend we'll contact you next week thank you very much it's been\", reason=ResultReason.RecognizingSpeech))\n",
      "RECOGNIZING: SpeechRecognitionEventArgs(session_id=9bcb395f3b204ba8b8e4ee5c8eb42352, result=SpeechRecognitionResult(result_id=f1be4fb305f043748e9c96cc7afb4978, text=\"we're hoping the successful applicant can start at the beginning of next month we'll finish our interviews tomorrow and make a decision by the weekend we'll contact you next week thank you very much it's been a pleasure meeting\", reason=ResultReason.RecognizingSpeech))\n",
      "RECOGNIZING: SpeechRecognitionEventArgs(session_id=9bcb395f3b204ba8b8e4ee5c8eb42352, result=SpeechRecognitionResult(result_id=b69bf4467e8441c6b0e9ecc24f632fb1, text=\"we're hoping the successful applicant can start at the beginning of next month we'll finish our interviews tomorrow and make a decision by the weekend we'll contact you next week thank you very much it's been a pleasure meeting you\", reason=ResultReason.RecognizingSpeech))\n",
      "RECOGNIZING: SpeechRecognitionEventArgs(session_id=9bcb395f3b204ba8b8e4ee5c8eb42352, result=SpeechRecognitionResult(result_id=ecbb75b188f74b54a76c5a77b1135d64, text=\"we're hoping the successful applicant can start at the beginning of next month we'll finish our interviews tomorrow and make a decision by the weekend we'll contact you next week thank you very much it's been a pleasure meeting you i hope\", reason=ResultReason.RecognizingSpeech))\n",
      "RECOGNIZING: SpeechRecognitionEventArgs(session_id=9bcb395f3b204ba8b8e4ee5c8eb42352, result=SpeechRecognitionResult(result_id=6ade4a10fed94cf98d37d4003202c074, text=\"we're hoping the successful applicant can start at the beginning of next month we'll finish our interviews tomorrow and make a decision by the weekend we'll contact you next week thank you very much it's been a pleasure meeting you i hope to hear from you\", reason=ResultReason.RecognizingSpeech))\n",
      "RECOGNIZING: SpeechRecognitionEventArgs(session_id=9bcb395f3b204ba8b8e4ee5c8eb42352, result=SpeechRecognitionResult(result_id=433865987cd04a0d834be50e6784ade4, text=\"we're hoping the successful applicant can start at the beginning of next month we'll finish our interviews tomorrow and make a decision by the weekend we'll contact you next week thank you very much it's been a pleasure meeting you i hope to hear from you soon\", reason=ResultReason.RecognizingSpeech))\n",
      "RECOGNIZING: SpeechRecognitionEventArgs(session_id=9bcb395f3b204ba8b8e4ee5c8eb42352, result=SpeechRecognitionResult(result_id=d0f09d397176415d8b434708ce95e15d, text=\"we're hoping the successful applicant can start at the beginning of next month we'll finish our interviews tomorrow and make a decision by the weekend we'll contact you next week thank you very much it's been a pleasure meeting you i hope to hear from you soon thanks\", reason=ResultReason.RecognizingSpeech))\n",
      "RECOGNIZING: SpeechRecognitionEventArgs(session_id=9bcb395f3b204ba8b8e4ee5c8eb42352, result=SpeechRecognitionResult(result_id=804c29ce713a4ce7b737a6193b2c3067, text=\"we're hoping the successful applicant can start at the beginning of next month we'll finish our interviews tomorrow and make a decision by the weekend we'll contact you next week thank you very much it's been a pleasure meeting you i hope to hear from you soon thanks for coming\", reason=ResultReason.RecognizingSpeech))\n",
      "RECOGNIZING: SpeechRecognitionEventArgs(session_id=9bcb395f3b204ba8b8e4ee5c8eb42352, result=SpeechRecognitionResult(result_id=04a5b41f21bc4ad7b526f3e7f0e2bec8, text=\"we're hoping the successful applicant can start at the beginning of next month we'll finish our interviews tomorrow and make a decision by the weekend we'll contact you next week thank you very much it's been a pleasure meeting you i hope to hear from you soon thanks for coming in\", reason=ResultReason.RecognizingSpeech))\n",
      "RECOGNIZING: SpeechRecognitionEventArgs(session_id=9bcb395f3b204ba8b8e4ee5c8eb42352, result=SpeechRecognitionResult(result_id=1f8eca78c5804505a8d505bf9a6444e4, text=\"we're hoping the successful applicant can start at the beginning of next month we'll finish our interviews tomorrow and make a decision by the weekend we'll contact you next week thank you very much it's been a pleasure meeting you i hope to hear from you soon thanks for coming in to see\", reason=ResultReason.RecognizingSpeech))\n",
      "RECOGNIZING: SpeechRecognitionEventArgs(session_id=9bcb395f3b204ba8b8e4ee5c8eb42352, result=SpeechRecognitionResult(result_id=a35b47ad0d7f4cf7a9f5450612c2d6a8, text=\"we're hoping the successful applicant can start at the beginning of next month we'll finish our interviews tomorrow and make a decision by the weekend we'll contact you next week thank you very much it's been a pleasure meeting you i hope to hear from you soon thanks for coming in to see us missus\", reason=ResultReason.RecognizingSpeech))\n",
      "RECOGNIZING: SpeechRecognitionEventArgs(session_id=9bcb395f3b204ba8b8e4ee5c8eb42352, result=SpeechRecognitionResult(result_id=703ab98c400442d9acb04a2645f0414b, text=\"we're hoping the successful applicant can start at the beginning of next month we'll finish our interviews tomorrow and make a decision by the weekend we'll contact you next week thank you very much it's been a pleasure meeting you i hope to hear from you soon thanks for coming in to see us missus stevens\", reason=ResultReason.RecognizingSpeech))\n",
      "RECOGNIZED: We're hoping the successful applicant can start at the beginning of next month. We'll finish our interviews tomorrow and make a decision by the weekend. We'll contact you next week. Thank you very much. It's been a pleasure meeting you. I hope to hear from you soon. Thanks for coming in to see us, Missus Stevens.\n",
      "RECOGNIZING: SpeechRecognitionEventArgs(session_id=9bcb395f3b204ba8b8e4ee5c8eb42352, result=SpeechRecognitionResult(result_id=4bf5db15c75a4005bc9734d73e4559c3, text=\"ellie\", reason=ResultReason.RecognizingSpeech))\n",
      "RECOGNIZED: Ellie.\n",
      "CANCELED SpeechRecognitionCanceledEventArgs(session_id=9bcb395f3b204ba8b8e4ee5c8eb42352, result=SpeechRecognitionResult(result_id=ec70a582f7f744c5b16ba3ae4b08d33c, text=\"\", reason=ResultReason.Canceled))\n",
      "CLOSING on SpeechRecognitionCanceledEventArgs(session_id=9bcb395f3b204ba8b8e4ee5c8eb42352, result=SpeechRecognitionResult(result_id=ec70a582f7f744c5b16ba3ae4b08d33c, text=\"\", reason=ResultReason.Canceled))\n",
      "STT SESSION STOPPED SessionEventArgs(session_id=9bcb395f3b204ba8b8e4ee5c8eb42352)\n",
      "CLOSING on SessionEventArgs(session_id=9bcb395f3b204ba8b8e4ee5c8eb42352)\n",
      "[\"Hello, Mrs. Stevens. My name is Jane Phillips. I'm the Personnel director. I'm pleased to meet you. Please have a seat. Thank you.\", 'According to your resume, you have several years of office experience.', \"Yes, I've had over 10 years experience. Tell me about your qualifications. I can type over 100 words per minute. I'm proficient in many computer programs. I have excellent interpersonal skills.\", \"I am well organized and I'm a very fast learner. I see that you have excellent references. Do you have any questions about the position?\", \"Yes. What are the responsibilities in this position? We're looking for someone to supervise 2 office clerks, handle all the correspondence, arrange meetings and manage the front office. Have you had any supervisory experience? Yes, I supervised 3 administrators in my last position.\", 'What are the office hours, Mrs. Phillips? 8:30 to 4:30 with an hour off for lunch. What are your salary expectations, Missus Stevens, I expect to be paid the going rate for this type of position. Can you tell me about the benefits you offer? Yes. We provide full medical and dental coverage, a pension plan, and a three-week holiday per year.', \"That's very generous. When is the position available?\", \"We're hoping the successful applicant can start at the beginning of next month. We'll finish our interviews tomorrow and make a decision by the weekend. We'll contact you next week. Thank you very much. It's been a pleasure meeting you. I hope to hear from you soon. Thanks for coming in to see us, Missus Stevens.\", 'Ellie.']\n"
     ]
    }
   ],
   "source": [
    "text = recognize_speech_from_file(\"../data/sample.wav\")\n",
    "print(text)"
   ]
  },
  {
   "cell_type": "markdown",
   "metadata": {},
   "source": [
    "## Create prompt for listing interview questions"
   ]
  },
  {
   "cell_type": "code",
   "execution_count": 8,
   "metadata": {},
   "outputs": [
    {
     "data": {
      "text/plain": [
       "\"What are the responsibilities in this position? \\n\\nWe're looking for someone to supervise 2 office clerks, handle all the correspondence, arrange meetings and manage the front office. \\n\\nWhat are your salary expectations, Missus Stevens? \\n\\nI expect to be paid the going rate for this type of position. \\n\\nWhat are the office hours, Mrs. Phillips? \\n\\n8:30 to 4:30 with an hour off for lunch. \\n\\nCan you tell me about the benefits you offer? \\n\\nYes. We provide full medical and dental coverage, a pension plan, and a three-week holiday per year. \\n\\nDo you have any questions about the position? \\n\\nYes. \\n\\nWhen is the position available? \\n\\nWe're hoping the successful applicant can start at the beginning of next month. \\n\\nI see that you have excellent references. \\n\\nDo you have any questions about the position? \\n\\nYes. \\n\\nHave you had any supervisory experience? \\n\\nYes, I supervised 3 administrators in my last position. \\n\\nTell me about your qualifications. \\n\\nI can type over 100 words per minute. I'm proficient in many computer programs. I have excellent interpersonal skills. I am well organized and I'm a very fast learner. \\n\\nHello, Mrs. Stevens. \\n\\nMy name is Jane Phillips. I'm the Personnel director. I'm pleased to meet you. Please have a seat. Thank you. \\n\\nThanks for coming in to see us, Missus Stevens. \\n\\nEllie.\""
      ]
     },
     "execution_count": 8,
     "metadata": {},
     "output_type": "execute_result"
    }
   ],
   "source": [
    "prompt = f\"List all the interview questions \\n\\n{' '.join(text)}\"\n",
    "\n",
    "openai.Completion.create(\n",
    "    engine=COMPLETIONS_MODEL,\n",
    "    prompt=prompt,\n",
    "    temperature=0,\n",
    "    max_tokens=300\n",
    ")[\"choices\"][0][\"text\"].strip(\" \\n\")"
   ]
  },
  {
   "cell_type": "code",
   "execution_count": 9,
   "metadata": {},
   "outputs": [
    {
     "name": "stdout",
     "output_type": "stream",
     "text": [
      "Execution Time: 68.38762664794922 seconds\n"
     ]
    }
   ],
   "source": [
    "# Record end time\n",
    "end_time = time.time()\n",
    "\n",
    "# Calculate execution time\n",
    "execution_time = end_time - start_time\n",
    "print(f\"Execution Time: {execution_time} seconds\")"
   ]
  }
 ],
 "metadata": {
  "kernelspec": {
   "display_name": ".venv",
   "language": "python",
   "name": "python3"
  },
  "language_info": {
   "codemirror_mode": {
    "name": "ipython",
    "version": 3
   },
   "file_extension": ".py",
   "mimetype": "text/x-python",
   "name": "python",
   "nbconvert_exporter": "python",
   "pygments_lexer": "ipython3",
   "version": "3.10.0"
  }
 },
 "nbformat": 4,
 "nbformat_minor": 2
}
